{
 "cells": [
  {
   "cell_type": "code",
   "execution_count": null,
   "id": "f329c468",
   "metadata": {},
   "outputs": [],
   "source": [
    "import pandas as pd\n",
    "from sklearn.model_selection import train_test_split\n",
    "import numpy as np\n",
    "from sklearn.metrics import mean_squared_error\n",
    "import matplotlib.pyplot as plt\n",
    "from pmf import pmf\n",
    "from lda import lda_model"
   ]
  },
  {
   "cell_type": "markdown",
   "id": "2daaa0c7",
   "metadata": {},
   "source": [
    "Load dataset"
   ]
  },
  {
   "cell_type": "code",
   "execution_count": null,
   "id": "8d38b30d",
   "metadata": {},
   "outputs": [],
   "source": [
    "anime_df = pd.read_csv('data/anime.csv')\n",
    "anime_df = anime_df.rename(columns={'rating': 'avg_rating'})\n",
    "rating_df = pd.read_csv('data/rating.csv')"
   ]
  },
  {
   "cell_type": "markdown",
   "id": "24cce6b4",
   "metadata": {},
   "source": [
    "Sample a few data points to make it easier for computation"
   ]
  },
  {
   "cell_type": "code",
   "execution_count": null,
   "id": "8b20d253",
   "metadata": {},
   "outputs": [],
   "source": [
    "rating_df = rating_df.sample(n=100_000, random_state=42)"
   ]
  },
  {
   "cell_type": "markdown",
   "id": "03a27575",
   "metadata": {},
   "source": [
    "Data for pmf"
   ]
  },
  {
   "cell_type": "code",
   "execution_count": null,
   "id": "022ad2e3",
   "metadata": {},
   "outputs": [],
   "source": [
    "rating_df = rating_df[rating_df['rating'] != -1]\n",
    "combined_df = pd.merge(anime_df, rating_df, on='anime_id', how='inner')\n",
    "\n",
    "uniq_users = combined_df['user_id'].unique().tolist()\n",
    "uniq_animes = combined_df['anime_id'].unique().tolist()\n",
    "\n",
    "n_users = len(uniq_users)\n",
    "n_animes = len(uniq_animes)\n",
    "\n",
    "df_copy = combined_df.copy()\n",
    "train_set = df_copy.sample(frac=0.75, random_state=0)\n",
    "test_set = df_copy.drop(train_set.index)"
   ]
  },
  {
   "cell_type": "markdown",
   "id": "e6fe9f05",
   "metadata": {},
   "source": [
    "Data for lda"
   ]
  },
  {
   "cell_type": "code",
   "execution_count": null,
   "id": "f8cfa4f6",
   "metadata": {},
   "outputs": [],
   "source": [
    "anime_df = anime_df.rename(columns={'genre': 'description'})\n",
    "used_anime_ids = set(train_set['anime_id']).union(set(test_set['anime_id']))\n",
    "used_user_ids = set(train_set['user_id']).union(set(test_set['user_id']))\n",
    "\n",
    "anime_filtered = anime_df[anime_df['anime_id'].isin(used_anime_ids) & anime_df['description'].notna()]\n",
    "rating_for_lda = rating_df[\n",
    "    (rating_df['anime_id'].isin(anime_filtered['anime_id'])) &\n",
    "    (rating_df['user_id'].isin(used_user_ids))\n",
    "]\n",
    "lda_df = pd.merge(anime_filtered[['anime_id', 'description']], rating_for_lda, on='anime_id', how='inner')\n",
    "\n",
    "lda_copy = lda_df.copy()\n",
    "lda_train_set = lda_copy.sample(frac=0.75, random_state=0)\n",
    "lda_test_set = lda_copy.drop(lda_train_set.index)"
   ]
  },
  {
   "cell_type": "code",
   "execution_count": null,
   "id": "1211bfc6",
   "metadata": {},
   "outputs": [],
   "source": [
    "pmf_model = pmf(n_users=n_users, n_animes=n_animes, lambda_U=5, lambda_V=5, uniq_users=uniq_users, uniq_animes=uniq_animes, n_dimesions=10)"
   ]
  },
  {
   "cell_type": "code",
   "execution_count": null,
   "id": "4303c04f",
   "metadata": {},
   "outputs": [],
   "source": [
    "log_ps, rmse_train, rmse_test = pmf_model.train(train_set=train_set, test_set=test_set,n_epochs=20)"
   ]
  },
  {
   "cell_type": "code",
   "execution_count": null,
   "id": "cdb101c2",
   "metadata": {},
   "outputs": [],
   "source": [
    "_, (ax1, ax2) = plt.subplots(1, 2, figsize=(20, 10))\n",
    "plt.title('Training results')\n",
    "ax1.plot(np.arange(len(log_ps)), log_ps, label='MAP')\n",
    "ax1.legend()\n",
    "\n",
    "ax2.plot(np.arange(len(rmse_train)), rmse_train, label='RMSE train')\n",
    "ax2.plot(np.arange(len(rmse_test)), rmse_test, label='RMSE test')\n",
    "ax2.legend()\n",
    "\n",
    "plt.show()"
   ]
  },
  {
   "cell_type": "code",
   "execution_count": null,
   "id": "4cb764e9",
   "metadata": {},
   "outputs": [],
   "source": [
    "print('RMSE of training set:', pmf_model.evaluate(train_set))\n",
    "print('RMSE of testing set:', pmf_model.evaluate(test_set))"
   ]
  },
  {
   "cell_type": "code",
   "execution_count": null,
   "id": "411a3d3a",
   "metadata": {},
   "outputs": [],
   "source": [
    "lda_recommender = lda_model(n_topics=20, max_iter=20)"
   ]
  },
  {
   "cell_type": "code",
   "execution_count": null,
   "id": "b3556bcc",
   "metadata": {},
   "outputs": [],
   "source": [
    "lda_recommender.train(train_set=lda_train_set, test_set=lda_test_set)"
   ]
  },
  {
   "cell_type": "code",
   "execution_count": null,
   "id": "8c2603a7",
   "metadata": {},
   "outputs": [],
   "source": [
    "lda_rmse_train = lda_recommender.evaluate(lda_train_set)\n",
    "lda_rmse_test = lda_recommender.evaluate(lda_test_set)\n",
    "print('RMSE Train:', lda_rmse_train)\n",
    "print('RMSE Test:', lda_rmse_test)"
   ]
  },
  {
   "cell_type": "code",
   "execution_count": null,
   "id": "452977b7",
   "metadata": {},
   "outputs": [],
   "source": [
    "fig, ax = plt.subplots(1, 1, figsize=(8, 6))\n",
    "x = ['Train', 'Test']\n",
    "y = [lda_rmse_train, lda_rmse_test]\n",
    "bars = ax.bar(x, y, color=['skyblue', 'salmon'])\n",
    "ax.set_ylim(0, max(y) * 1.1)\n",
    "ax.set_title(\"RMSE for LDA Model (Topic-based)\")\n",
    "ax.set_ylabel(\"RMSE\")\n",
    "ax.bar_label(bars, fmt='%.2f')\n",
    "plt.grid(axis='y')\n",
    "plt.tight_layout()\n",
    "plt.show()"
   ]
  },
  {
   "cell_type": "code",
   "execution_count": null,
   "id": "c29ef114",
   "metadata": {},
   "outputs": [],
   "source": [
    "topic_counts = [5, 10, 20, 30, 40]\n",
    "train_rmse_list = []\n",
    "test_rmse_list = []\n",
    "\n",
    "for n in topic_counts:\n",
    "    model = lda_model(n_topics=n, max_iter=100)\n",
    "    model.train(train_set, test_set)\n",
    "    train_rmse_list.append(model.evaluate(train_set))\n",
    "    test_rmse_list.append(model.evaluate(test_set))"
   ]
  },
  {
   "cell_type": "code",
   "execution_count": null,
   "id": "e538c6c6",
   "metadata": {},
   "outputs": [],
   "source": [
    "plt.figure(figsize=(10, 6))\n",
    "plt.plot(topic_counts, train_rmse_list, label='Train RMSE')\n",
    "plt.plot(topic_counts, test_rmse_list, label='Test RMSE')\n",
    "plt.xlabel('Number of Topics')\n",
    "plt.ylabel('RMSE')\n",
    "plt.title('RMSE vs Number of Topics (LDA)')\n",
    "plt.legend()\n",
    "plt.grid(True)\n",
    "plt.show()"
   ]
  }
 ],
 "metadata": {
  "kernelspec": {
   "display_name": "Python 3",
   "language": "python",
   "name": "python3"
  },
  "language_info": {
   "codemirror_mode": {
    "name": "ipython",
    "version": 3
   },
   "file_extension": ".py",
   "mimetype": "text/x-python",
   "name": "python",
   "nbconvert_exporter": "python",
   "pygments_lexer": "ipython3",
   "version": "3.10.5"
  }
 },
 "nbformat": 4,
 "nbformat_minor": 5
}
