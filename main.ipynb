{
 "cells": [
  {
   "cell_type": "code",
   "execution_count": null,
   "id": "f329c468",
   "metadata": {},
   "outputs": [],
   "source": [
    "import pandas as pd\n",
    "from sklearn.model_selection import train_test_split\n",
    "import numpy as np\n",
    "from sklearn.metrics import mean_squared_error\n",
    "import matplotlib.pyplot as plt\n",
    "from pmf import pmf"
   ]
  },
  {
   "cell_type": "markdown",
   "id": "2daaa0c7",
   "metadata": {},
   "source": [
    "Load dataset"
   ]
  },
  {
   "cell_type": "code",
   "execution_count": null,
   "id": "8d38b30d",
   "metadata": {},
   "outputs": [],
   "source": [
    "anime_df = pd.read_csv('data/anime.csv')\n",
    "anime_df = anime_df.rename(columns={'rating': 'avg_rating'})\n",
    "rating_df = pd.read_csv('data/rating.csv')"
   ]
  },
  {
   "cell_type": "markdown",
   "id": "24cce6b4",
   "metadata": {},
   "source": [
    "Sample a few data points to make it easier for computation"
   ]
  },
  {
   "cell_type": "code",
   "execution_count": null,
   "id": "8b20d253",
   "metadata": {},
   "outputs": [],
   "source": [
    "rating_df = rating_df.sample(n=100_000, random_state=42)"
   ]
  },
  {
   "cell_type": "code",
   "execution_count": null,
   "id": "022ad2e3",
   "metadata": {},
   "outputs": [],
   "source": [
    "rating_df = rating_df[rating_df['rating'] != -1]\n",
    "# rating_df['rating'] = (rating_df['rating'] - 1) / 9.0 # Normalize ratings to [0, 1]\n",
    "combined_df = pd.merge(anime_df, rating_df, on='anime_id', how='inner')\n",
    "\n",
    "uniq_users = combined_df['user_id'].unique()\n",
    "uniq_animes = combined_df['anime_id'].unique()\n",
    "\n",
    "n_users = len(uniq_users)\n",
    "n_animes = len(uniq_animes)\n",
    "\n",
    "df_copy = combined_df.copy()\n",
    "train_set = df_copy.sample(frac=0.75, random_state=0)\n",
    "test_set = df_copy.drop(train_set.index)"
   ]
  },
  {
   "cell_type": "code",
   "execution_count": null,
   "id": "1211bfc6",
   "metadata": {},
   "outputs": [],
   "source": [
    "pmf_model = pmf(n_users=n_users, n_animes=n_animes, lambda_U=0.3, lambda_V=0.3, uniq_users=uniq_users, uniq_animes=uniq_animes, n_dimesions=20)"
   ]
  },
  {
   "cell_type": "code",
   "execution_count": null,
   "id": "4303c04f",
   "metadata": {},
   "outputs": [],
   "source": [
    "log_ps, rmse_train, rmse_test = pmf_model.train(train_set=train_set, test_set=test_set,n_epochs=150)"
   ]
  },
  {
   "cell_type": "code",
   "execution_count": null,
   "id": "cdb101c2",
   "metadata": {},
   "outputs": [],
   "source": [
    "_, (ax1, ax2) = plt.subplots(1, 2, figsize=(20, 10))\n",
    "plt.title('Training results')\n",
    "ax1.plot(np.arange(len(log_ps)), log_ps, label='MAP')\n",
    "ax1.legend()\n",
    "\n",
    "ax2.plot(np.arange(len(rmse_train)), rmse_train, label='RMSE train')\n",
    "ax2.plot(np.arange(len(rmse_test)), rmse_test, label='RMSE test')\n",
    "ax2.legend()\n",
    "\n",
    "plt.show()"
   ]
  },
  {
   "cell_type": "code",
   "execution_count": null,
   "id": "4cb764e9",
   "metadata": {},
   "outputs": [],
   "source": [
    "print('RMSE of training set:', pmf_model.evaluate(train_set))\n",
    "print('RMSE of testing set:', pmf_model.evaluate(test_set))"
   ]
  }
 ],
 "metadata": {
  "kernelspec": {
   "display_name": "Python 3",
   "language": "python",
   "name": "python3"
  },
  "language_info": {
   "codemirror_mode": {
    "name": "ipython",
    "version": 3
   },
   "file_extension": ".py",
   "mimetype": "text/x-python",
   "name": "python",
   "nbconvert_exporter": "python",
   "pygments_lexer": "ipython3",
   "version": "3.10.5"
  }
 },
 "nbformat": 4,
 "nbformat_minor": 5
}
