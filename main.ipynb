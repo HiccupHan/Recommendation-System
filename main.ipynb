{
 "cells": [
  {
   "cell_type": "code",
   "execution_count": 1,
   "id": "f329c468",
   "metadata": {},
   "outputs": [],
   "source": [
    "import pandas as pd\n",
    "from sklearn.model_selection import train_test_split\n",
    "import numpy as np\n",
    "from sklearn.metrics import mean_squared_error\n",
    "import matplotlib.pyplot as plt\n",
    "from pmf import pmf"
   ]
  },
  {
   "cell_type": "markdown",
   "id": "2daaa0c7",
   "metadata": {},
   "source": [
    "Load dataset"
   ]
  },
  {
   "cell_type": "code",
   "execution_count": 2,
   "id": "8d38b30d",
   "metadata": {},
   "outputs": [],
   "source": [
    "anime_df = pd.read_csv('data/anime.csv')\n",
    "anime_df = anime_df.rename(columns={'rating': 'avg_rating'})\n",
    "rating_df = pd.read_csv('data/rating.csv')"
   ]
  },
  {
   "cell_type": "markdown",
   "id": "24cce6b4",
   "metadata": {},
   "source": [
    "Sample a few data points to make it easier for computation"
   ]
  },
  {
   "cell_type": "code",
   "execution_count": 3,
   "id": "8b20d253",
   "metadata": {},
   "outputs": [],
   "source": [
    "rating_df = rating_df.sample(n=100_000, random_state=42)"
   ]
  },
  {
   "cell_type": "code",
   "execution_count": 4,
   "id": "022ad2e3",
   "metadata": {},
   "outputs": [],
   "source": [
    "rating_df = rating_df[rating_df['rating'] != -1]\n",
    "rating_df['rating'] = (rating_df['rating'] - 1) / 9.0 \n",
    "combined_df = pd.merge(anime_df, rating_df, on='anime_id', how='inner')\n",
    "\n",
    "uniq_users = combined_df['user_id'].unique()\n",
    "uniq_animes = combined_df['anime_id'].unique()\n",
    "\n",
    "n_users = len(uniq_users)\n",
    "n_animes = len(uniq_animes)\n",
    "\n",
    "df_copy = combined_df.copy()\n",
    "train_set = df_copy.sample(frac=0.75, random_state=0)\n",
    "test_set = df_copy.drop(train_set.index)"
   ]
  },
  {
   "cell_type": "code",
   "execution_count": null,
   "id": "1211bfc6",
   "metadata": {},
   "outputs": [],
   "source": [
    "pmf_model = pmf(n_users=n_users, n_animes=n_animes, lambda_U=0.3, lambda_V=0.3, uniq_users=uniq_users, uniq_animes=uniq_animes, n_dimesions=20)"
   ]
  },
  {
   "cell_type": "code",
   "execution_count": 6,
   "id": "4303c04f",
   "metadata": {},
   "outputs": [
    {
     "ename": "KeyboardInterrupt",
     "evalue": "",
     "output_type": "error",
     "traceback": [
      "\u001b[1;31m---------------------------------------------------------------------------\u001b[0m",
      "\u001b[1;31mKeyboardInterrupt\u001b[0m                         Traceback (most recent call last)",
      "Cell \u001b[1;32mIn[6], line 1\u001b[0m\n\u001b[1;32m----> 1\u001b[0m log_ps, rmse_train, rmse_test \u001b[38;5;241m=\u001b[39m \u001b[43mpmf_model\u001b[49m\u001b[38;5;241;43m.\u001b[39;49m\u001b[43mtrain\u001b[49m\u001b[43m(\u001b[49m\u001b[43mtrain_set\u001b[49m\u001b[38;5;241;43m=\u001b[39;49m\u001b[43mtrain_set\u001b[49m\u001b[43m,\u001b[49m\u001b[43m \u001b[49m\u001b[43mtest_set\u001b[49m\u001b[38;5;241;43m=\u001b[39;49m\u001b[43mtest_set\u001b[49m\u001b[43m,\u001b[49m\u001b[43mn_epochs\u001b[49m\u001b[38;5;241;43m=\u001b[39;49m\u001b[38;5;241;43m150\u001b[39;49m\u001b[43m)\u001b[49m\n",
      "File \u001b[1;32mc:\\Users\\hanxu\\OneDrive\\Desktop\\school\\grad school\\Freshman\\CS267A\\Recommendation-System\\pmf.py:94\u001b[0m, in \u001b[0;36mpmf.train\u001b[1;34m(self, train_set, test_set, n_epochs)\u001b[0m\n\u001b[0;32m     91\u001b[0m rmse_test\u001b[38;5;241m.\u001b[39mappend(\u001b[38;5;28mself\u001b[39m\u001b[38;5;241m.\u001b[39mevaluate(test_set))\n\u001b[0;32m     93\u001b[0m \u001b[38;5;28;01mfor\u001b[39;00m k \u001b[38;5;129;01min\u001b[39;00m \u001b[38;5;28mrange\u001b[39m(n_epochs):\n\u001b[1;32m---> 94\u001b[0m     \u001b[38;5;28;43mself\u001b[39;49m\u001b[38;5;241;43m.\u001b[39;49m\u001b[43mupdate_parameters\u001b[49m\u001b[43m(\u001b[49m\u001b[43m)\u001b[49m\n\u001b[0;32m     95\u001b[0m     log_ap \u001b[38;5;241m=\u001b[39m \u001b[38;5;28mself\u001b[39m\u001b[38;5;241m.\u001b[39mlog_a_posteriori()\n\u001b[0;32m     96\u001b[0m     log_aps\u001b[38;5;241m.\u001b[39mappend(log_ap)\n",
      "File \u001b[1;32mc:\\Users\\hanxu\\OneDrive\\Desktop\\school\\grad school\\Freshman\\CS267A\\Recommendation-System\\pmf.py:34\u001b[0m, in \u001b[0;36mpmf.update_parameters\u001b[1;34m(self)\u001b[0m\n\u001b[0;32m     31\u001b[0m V_j \u001b[38;5;241m=\u001b[39m \u001b[38;5;28mself\u001b[39m\u001b[38;5;241m.\u001b[39mV[:, item_indices]\n\u001b[0;32m     32\u001b[0m ratings_i \u001b[38;5;241m=\u001b[39m \u001b[38;5;28mself\u001b[39m\u001b[38;5;241m.\u001b[39mR[i, item_indices]\n\u001b[1;32m---> 34\u001b[0m A \u001b[38;5;241m=\u001b[39m V_j \u001b[38;5;241m@\u001b[39m V_j\u001b[38;5;241m.\u001b[39mT \u001b[38;5;241m+\u001b[39m \u001b[38;5;28mself\u001b[39m\u001b[38;5;241m.\u001b[39mlambda_U \u001b[38;5;241m*\u001b[39m \u001b[43mnp\u001b[49m\u001b[38;5;241;43m.\u001b[39;49m\u001b[43midentity\u001b[49m\u001b[43m(\u001b[49m\u001b[38;5;28;43mself\u001b[39;49m\u001b[38;5;241;43m.\u001b[39;49m\u001b[43mn_dims\u001b[49m\u001b[43m)\u001b[49m\n\u001b[0;32m     35\u001b[0m b \u001b[38;5;241m=\u001b[39m V_j \u001b[38;5;241m@\u001b[39m ratings_i\u001b[38;5;241m.\u001b[39mT\n\u001b[0;32m     36\u001b[0m \u001b[38;5;28mself\u001b[39m\u001b[38;5;241m.\u001b[39mU[:, i] \u001b[38;5;241m=\u001b[39m np\u001b[38;5;241m.\u001b[39mlinalg\u001b[38;5;241m.\u001b[39msolve(A, b)\n",
      "File \u001b[1;32mc:\\Users\\hanxu\\AppData\\Local\\Programs\\Python\\Python310\\lib\\site-packages\\numpy\\core\\numeric.py:2150\u001b[0m, in \u001b[0;36midentity\u001b[1;34m(n, dtype, like)\u001b[0m\n\u001b[0;32m   2146\u001b[0m \u001b[38;5;28;01mdef\u001b[39;00m \u001b[38;5;21m_identity_dispatcher\u001b[39m(n, dtype\u001b[38;5;241m=\u001b[39m\u001b[38;5;28;01mNone\u001b[39;00m, \u001b[38;5;241m*\u001b[39m, like\u001b[38;5;241m=\u001b[39m\u001b[38;5;28;01mNone\u001b[39;00m):\n\u001b[0;32m   2147\u001b[0m     \u001b[38;5;28;01mreturn\u001b[39;00m (like,)\n\u001b[1;32m-> 2150\u001b[0m \u001b[38;5;129m@set_array_function_like_doc\u001b[39m\n\u001b[0;32m   2151\u001b[0m \u001b[38;5;129m@set_module\u001b[39m(\u001b[38;5;124m'\u001b[39m\u001b[38;5;124mnumpy\u001b[39m\u001b[38;5;124m'\u001b[39m)\n\u001b[0;32m   2152\u001b[0m \u001b[38;5;28;01mdef\u001b[39;00m \u001b[38;5;21midentity\u001b[39m(n, dtype\u001b[38;5;241m=\u001b[39m\u001b[38;5;28;01mNone\u001b[39;00m, \u001b[38;5;241m*\u001b[39m, like\u001b[38;5;241m=\u001b[39m\u001b[38;5;28;01mNone\u001b[39;00m):\n\u001b[0;32m   2153\u001b[0m \u001b[38;5;250m    \u001b[39m\u001b[38;5;124;03m\"\"\"\u001b[39;00m\n\u001b[0;32m   2154\u001b[0m \u001b[38;5;124;03m    Return the identity array.\u001b[39;00m\n\u001b[0;32m   2155\u001b[0m \n\u001b[1;32m   (...)\u001b[0m\n\u001b[0;32m   2181\u001b[0m \n\u001b[0;32m   2182\u001b[0m \u001b[38;5;124;03m    \"\"\"\u001b[39;00m\n\u001b[0;32m   2183\u001b[0m     \u001b[38;5;28;01mif\u001b[39;00m like \u001b[38;5;129;01mis\u001b[39;00m \u001b[38;5;129;01mnot\u001b[39;00m \u001b[38;5;28;01mNone\u001b[39;00m:\n",
      "\u001b[1;31mKeyboardInterrupt\u001b[0m: "
     ]
    }
   ],
   "source": [
    "log_ps, rmse_train, rmse_test = pmf_model.train(train_set=train_set, test_set=test_set,n_epochs=150)"
   ]
  },
  {
   "cell_type": "code",
   "execution_count": null,
   "id": "cdb101c2",
   "metadata": {},
   "outputs": [],
   "source": [
    "_, (ax1, ax2) = plt.subplots(1, 2, figsize=(20, 10))\n",
    "plt.title('Training results')\n",
    "ax1.plot(np.arange(len(log_ps)), log_ps, label='MAP')\n",
    "ax1.legend()\n",
    "\n",
    "ax2.plot(np.arange(len(rmse_train)), rmse_train, label='RMSE train')\n",
    "ax2.plot(np.arange(len(rmse_test)), rmse_test, label='RMSE test')\n",
    "ax2.legend()\n",
    "\n",
    "plt.show()"
   ]
  },
  {
   "cell_type": "code",
   "execution_count": null,
   "id": "4cb764e9",
   "metadata": {},
   "outputs": [],
   "source": [
    "print('RMSE of training set:', pmf_model.evaluate(train_set))\n",
    "print('RMSE of testing set:', pmf_model.evaluate(test_set))"
   ]
  }
 ],
 "metadata": {
  "kernelspec": {
   "display_name": "Python 3",
   "language": "python",
   "name": "python3"
  },
  "language_info": {
   "codemirror_mode": {
    "name": "ipython",
    "version": 3
   },
   "file_extension": ".py",
   "mimetype": "text/x-python",
   "name": "python",
   "nbconvert_exporter": "python",
   "pygments_lexer": "ipython3",
   "version": "3.10.5"
  }
 },
 "nbformat": 4,
 "nbformat_minor": 5
}
